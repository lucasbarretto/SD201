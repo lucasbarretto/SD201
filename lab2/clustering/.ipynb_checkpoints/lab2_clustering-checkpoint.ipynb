{
 "cells": [
  {
   "cell_type": "markdown",
   "metadata": {},
   "source": [
    "# SD201 - Lab2 - Clustering\n",
    "Student: José Lucas Barretto"
   ]
  },
  {
   "cell_type": "markdown",
   "metadata": {},
   "source": [
    "## Question 1"
   ]
  },
  {
   "cell_type": "markdown",
   "metadata": {},
   "source": [
    "First, we need to import the data from the csv file. I will import the files to a Pandas DataFrame."
   ]
  },
  {
   "cell_type": "code",
   "execution_count": 1,
   "metadata": {},
   "outputs": [
    {
     "data": {
      "text/html": [
       "<div>\n",
       "<style scoped>\n",
       "    .dataframe tbody tr th:only-of-type {\n",
       "        vertical-align: middle;\n",
       "    }\n",
       "\n",
       "    .dataframe tbody tr th {\n",
       "        vertical-align: top;\n",
       "    }\n",
       "\n",
       "    .dataframe thead th {\n",
       "        text-align: right;\n",
       "    }\n",
       "</style>\n",
       "<table border=\"1\" class=\"dataframe\">\n",
       "  <thead>\n",
       "    <tr style=\"text-align: right;\">\n",
       "      <th></th>\n",
       "      <th>StockName</th>\n",
       "      <th>1/28/2011</th>\n",
       "      <th>4/29/2011</th>\n",
       "      <th>5/20/2011</th>\n",
       "      <th>4/1/2011</th>\n",
       "      <th>5/27/2011</th>\n",
       "      <th>6/17/2011</th>\n",
       "      <th>4/15/2011</th>\n",
       "      <th>2/18/2011</th>\n",
       "      <th>3/18/2011</th>\n",
       "      <th>...</th>\n",
       "      <th>1/14/2011</th>\n",
       "      <th>4/8/2011</th>\n",
       "      <th>4/21/2011</th>\n",
       "      <th>3/4/2011</th>\n",
       "      <th>3/25/2011</th>\n",
       "      <th>2/4/2011</th>\n",
       "      <th>1/7/2011</th>\n",
       "      <th>2/25/2011</th>\n",
       "      <th>5/13/2011</th>\n",
       "      <th>1/21/2011</th>\n",
       "    </tr>\n",
       "  </thead>\n",
       "  <tbody>\n",
       "    <tr>\n",
       "      <th>0</th>\n",
       "      <td>American Express</td>\n",
       "      <td>-4.755700</td>\n",
       "      <td>4.00509</td>\n",
       "      <td>3.581550</td>\n",
       "      <td>-0.395257</td>\n",
       "      <td>0.768624</td>\n",
       "      <td>1.125940</td>\n",
       "      <td>-0.237274</td>\n",
       "      <td>-1.917280</td>\n",
       "      <td>0.706794</td>\n",
       "      <td>...</td>\n",
       "      <td>4.63801</td>\n",
       "      <td>1.468980</td>\n",
       "      <td>2.74809</td>\n",
       "      <td>-0.022868</td>\n",
       "      <td>1.877090</td>\n",
       "      <td>-0.70247</td>\n",
       "      <td>2.448040</td>\n",
       "      <td>-3.137520</td>\n",
       "      <td>-1.138630</td>\n",
       "      <td>-0.065175</td>\n",
       "    </tr>\n",
       "    <tr>\n",
       "      <th>1</th>\n",
       "      <td>Boeing</td>\n",
       "      <td>-3.201900</td>\n",
       "      <td>5.65488</td>\n",
       "      <td>-1.449280</td>\n",
       "      <td>0.693878</td>\n",
       "      <td>0.574788</td>\n",
       "      <td>1.505610</td>\n",
       "      <td>-1.425660</td>\n",
       "      <td>0.467675</td>\n",
       "      <td>-2.908530</td>\n",
       "      <td>...</td>\n",
       "      <td>0.93633</td>\n",
       "      <td>0.122649</td>\n",
       "      <td>3.74037</td>\n",
       "      <td>-0.924520</td>\n",
       "      <td>4.339170</td>\n",
       "      <td>3.06093</td>\n",
       "      <td>4.882840</td>\n",
       "      <td>-0.069109</td>\n",
       "      <td>-0.353045</td>\n",
       "      <td>1.157210</td>\n",
       "    </tr>\n",
       "    <tr>\n",
       "      <th>2</th>\n",
       "      <td>Chevron</td>\n",
       "      <td>-0.553840</td>\n",
       "      <td>1.92791</td>\n",
       "      <td>0.529256</td>\n",
       "      <td>1.804510</td>\n",
       "      <td>2.056760</td>\n",
       "      <td>-0.869652</td>\n",
       "      <td>-3.189360</td>\n",
       "      <td>3.371730</td>\n",
       "      <td>3.670840</td>\n",
       "      <td>...</td>\n",
       "      <td>2.06707</td>\n",
       "      <td>1.050500</td>\n",
       "      <td>3.03001</td>\n",
       "      <td>1.437230</td>\n",
       "      <td>2.811480</td>\n",
       "      <td>3.47363</td>\n",
       "      <td>-0.512765</td>\n",
       "      <td>2.892270</td>\n",
       "      <td>-0.832930</td>\n",
       "      <td>0.903809</td>\n",
       "    </tr>\n",
       "    <tr>\n",
       "      <th>3</th>\n",
       "      <td>Cisco Systems</td>\n",
       "      <td>0.431862</td>\n",
       "      <td>3.48494</td>\n",
       "      <td>-1.724140</td>\n",
       "      <td>-1.843320</td>\n",
       "      <td>0.304692</td>\n",
       "      <td>-1.122850</td>\n",
       "      <td>-3.839640</td>\n",
       "      <td>0.053079</td>\n",
       "      <td>-3.761930</td>\n",
       "      <td>...</td>\n",
       "      <td>1.28940</td>\n",
       "      <td>3.762490</td>\n",
       "      <td>0.35545</td>\n",
       "      <td>-1.181530</td>\n",
       "      <td>-0.346021</td>\n",
       "      <td>5.35117</td>\n",
       "      <td>2.542790</td>\n",
       "      <td>-0.480513</td>\n",
       "      <td>-3.707930</td>\n",
       "      <td>-2.356270</td>\n",
       "    </tr>\n",
       "    <tr>\n",
       "      <th>4</th>\n",
       "      <td>DuPont</td>\n",
       "      <td>3.819160</td>\n",
       "      <td>1.97522</td>\n",
       "      <td>0.000000</td>\n",
       "      <td>1.995930</td>\n",
       "      <td>1.565220</td>\n",
       "      <td>-0.919448</td>\n",
       "      <td>-1.009920</td>\n",
       "      <td>2.828800</td>\n",
       "      <td>-0.357277</td>\n",
       "      <td>...</td>\n",
       "      <td>3.10559</td>\n",
       "      <td>-0.180180</td>\n",
       "      <td>3.00295</td>\n",
       "      <td>-0.645518</td>\n",
       "      <td>0.557621</td>\n",
       "      <td>4.74576</td>\n",
       "      <td>-0.579421</td>\n",
       "      <td>-1.601460</td>\n",
       "      <td>-3.694940</td>\n",
       "      <td>-2.382390</td>\n",
       "    </tr>\n",
       "  </tbody>\n",
       "</table>\n",
       "<p>5 rows × 26 columns</p>\n",
       "</div>"
      ],
      "text/plain": [
       "          StockName  1/28/2011  4/29/2011  5/20/2011  4/1/2011  5/27/2011  \\\n",
       "0  American Express  -4.755700    4.00509   3.581550 -0.395257   0.768624   \n",
       "1            Boeing  -3.201900    5.65488  -1.449280  0.693878   0.574788   \n",
       "2           Chevron  -0.553840    1.92791   0.529256  1.804510   2.056760   \n",
       "3     Cisco Systems   0.431862    3.48494  -1.724140 -1.843320   0.304692   \n",
       "4            DuPont   3.819160    1.97522   0.000000  1.995930   1.565220   \n",
       "\n",
       "   6/17/2011  4/15/2011  2/18/2011  3/18/2011  ...  1/14/2011  4/8/2011  \\\n",
       "0   1.125940  -0.237274  -1.917280   0.706794  ...    4.63801  1.468980   \n",
       "1   1.505610  -1.425660   0.467675  -2.908530  ...    0.93633  0.122649   \n",
       "2  -0.869652  -3.189360   3.371730   3.670840  ...    2.06707  1.050500   \n",
       "3  -1.122850  -3.839640   0.053079  -3.761930  ...    1.28940  3.762490   \n",
       "4  -0.919448  -1.009920   2.828800  -0.357277  ...    3.10559 -0.180180   \n",
       "\n",
       "   4/21/2011  3/4/2011  3/25/2011  2/4/2011  1/7/2011  2/25/2011  5/13/2011  \\\n",
       "0    2.74809 -0.022868   1.877090  -0.70247  2.448040  -3.137520  -1.138630   \n",
       "1    3.74037 -0.924520   4.339170   3.06093  4.882840  -0.069109  -0.353045   \n",
       "2    3.03001  1.437230   2.811480   3.47363 -0.512765   2.892270  -0.832930   \n",
       "3    0.35545 -1.181530  -0.346021   5.35117  2.542790  -0.480513  -3.707930   \n",
       "4    3.00295 -0.645518   0.557621   4.74576 -0.579421  -1.601460  -3.694940   \n",
       "\n",
       "   1/21/2011  \n",
       "0  -0.065175  \n",
       "1   1.157210  \n",
       "2   0.903809  \n",
       "3  -2.356270  \n",
       "4  -2.382390  \n",
       "\n",
       "[5 rows x 26 columns]"
      ]
     },
     "execution_count": 1,
     "metadata": {},
     "output_type": "execute_result"
    }
   ],
   "source": [
    "import pandas as pd\n",
    "\n",
    "# import csv data to a pandas DataFrame\n",
    "data = pd.read_csv('data.csv')\n",
    "\n",
    "# print the first 5 samples from the data\n",
    "data.head(5)"
   ]
  },
  {
   "cell_type": "markdown",
   "metadata": {},
   "source": [
    "Now we can apply the KMeans Algorithm with default parameters to cluster the data."
   ]
  },
  {
   "cell_type": "code",
   "execution_count": 27,
   "metadata": {},
   "outputs": [
    {
     "name": "stdout",
     "output_type": "stream",
     "text": [
      "K-Means with default parameters:\n",
      "Sum of Squared Errors: 1536.62\n"
     ]
    }
   ],
   "source": [
    "from sklearn.cluster import KMeans\n",
    "\n",
    "# set random seed for reproducibility\n",
    "seed = 0\n",
    "\n",
    "# remove stock names from the data\n",
    "X = data.drop(['StockName'], axis=1)\n",
    "\n",
    "# train the kmeans algorithm on the data\n",
    "kmeans_default = KMeans(n_clusters=8, random_state=seed).fit(X)\n",
    "\n",
    "# calculate kmeans sse\n",
    "sse_default = kmeans_default.inertia_\n",
    "\n",
    "# print results\n",
    "print('K-Means with default parameters:')\n",
    "print('Sum of Squared Errors: {:.2f}'.format(sse_default))"
   ]
  },
  {
   "cell_type": "markdown",
   "metadata": {},
   "source": [
    "## Question 2"
   ]
  },
  {
   "cell_type": "markdown",
   "metadata": {},
   "source": [
    "In order to improve the clustering performance, I chose to tune the following parameters:\n",
    "\n",
    "**n_init**: this parameter indicates the number of times that the k-means algorithm will be run with different initial centroids. Since the algorithm automatically selects the best fit, increasing this parameter tends to increase the clustering performance, but will also increase computational cost. One thing to take into account is that since the centroid initialization is random, increasing or decreasing this parameter will not necessarily increase/decrease the clustering performance. While unlikely, it may happen that, for *n_init = 1*, the algorithm randomly selects the best possible centroid or, on the other hand, it may select 10 bad centroids for *n_init = 10*."
   ]
  },
  {
   "cell_type": "code",
   "execution_count": 28,
   "metadata": {},
   "outputs": [
    {
     "name": "stdout",
     "output_type": "stream",
     "text": [
      "K-Means with tuned n_init parameter:\n",
      "Sum of Squared Errors: 1510.02\n"
     ]
    }
   ],
   "source": [
    "kmeans_n_init = KMeans(n_clusters=8, n_init=200, random_state=seed).fit(X)\n",
    "\n",
    "# calculate kmeans sse\n",
    "sse_n_init = kmeans_n_init.inertia_\n",
    "\n",
    "# print results\n",
    "print('K-Means with tuned n_init parameter:')\n",
    "print('Sum of Squared Errors: {:.2f}'.format(sse_n_init))"
   ]
  },
  {
   "cell_type": "markdown",
   "metadata": {},
   "source": [
    "**tol**: this parameter defines the tolerance with regards to the Frobenius Norm of the difference between the centroids of two consecutive iterations to declare convergence. Therefore, decreasing this parameter means that the algorithm will have to perform more iterations in order for convergence to be declared, which can improve the clustering performance. As before, decreasing this parameter only improves the SSE up to a certain point. After the tolerance becomes too small, there are no significant gains in performance, which means that decreasing it won't neceessarily improve the model. In fact, its default value is already very low, and can be used out-of-the-box."
   ]
  },
  {
   "cell_type": "code",
   "execution_count": 29,
   "metadata": {},
   "outputs": [
    {
     "name": "stdout",
     "output_type": "stream",
     "text": [
      "K-Means with tuned tol parameter:\n",
      "Sum of Squared Errors: 1536.62\n"
     ]
    }
   ],
   "source": [
    "kmeans_tol = KMeans(n_clusters=8, tol=0.0001, random_state=seed).fit(X)\n",
    "\n",
    "# calculate kmeans sse\n",
    "sse_tol = kmeans_tol.inertia_\n",
    "\n",
    "# print results\n",
    "print('K-Means with tuned tol parameter:')\n",
    "print('Sum of Squared Errors: {:.2f}'.format(sse_tol))"
   ]
  },
  {
   "cell_type": "markdown",
   "metadata": {},
   "source": [
    "Now, we're going to tune both parameters and use a tuned model to cluster the data."
   ]
  },
  {
   "cell_type": "code",
   "execution_count": 30,
   "metadata": {},
   "outputs": [
    {
     "name": "stdout",
     "output_type": "stream",
     "text": [
      "K-Means with tuned parameters:\n",
      "Sum of Squared Errors: 1510.02\n"
     ]
    }
   ],
   "source": [
    "kmeans_tuned = KMeans(n_clusters=8, tol=0.0001, n_init=200, random_state=seed).fit(X)\n",
    "\n",
    "# calculate kmeans sse\n",
    "sse_tuned = kmeans_tuned.inertia_\n",
    "\n",
    "# print results\n",
    "print('K-Means with tuned parameters:')\n",
    "print('Sum of Squared Errors: {:.2f}'.format(sse_tuned))"
   ]
  },
  {
   "cell_type": "markdown",
   "metadata": {},
   "source": [
    "## Question 3"
   ]
  },
  {
   "cell_type": "markdown",
   "metadata": {},
   "source": [
    "The next step is to organize the clustering results into a dictionary and proceed to a qualitative analysis."
   ]
  },
  {
   "cell_type": "code",
   "execution_count": 31,
   "metadata": {},
   "outputs": [
    {
     "name": "stdout",
     "output_type": "stream",
     "text": [
      "{0: ['Intel'],\n",
      " 1: ['DuPont', 'Caterpillar', 'Alcoa'],\n",
      " 2: ['American Express',\n",
      "     'Boeing',\n",
      "     'Microsoft',\n",
      "     'Walt Disney',\n",
      "     'General Electric',\n",
      "     'United Technologies',\n",
      "     'JPMorgan Chase',\n",
      "     '3M'],\n",
      " 3: ['Cisco Systems'],\n",
      " 4: ['Kraft',\n",
      "     'Verizon',\n",
      "     'IBM',\n",
      "     'The Home Depot',\n",
      "     'Procter & Gamble',\n",
      "     'Wal-Mart',\n",
      "     'AT&T',\n",
      "     'Merck',\n",
      "     'Travelers',\n",
      "     'McDonalds',\n",
      "     'Coca-Cola',\n",
      "     'Johnson & Johnson'],\n",
      " 5: ['Chevron', 'Pfizer', 'ExxonMobil'],\n",
      " 6: ['Bank of America'],\n",
      " 7: ['Hewlett-Packard']}\n"
     ]
    }
   ],
   "source": [
    "# get companies names\n",
    "stocks = data['StockName']\n",
    "\n",
    "# create empty dict to store results\n",
    "results = {}\n",
    "\n",
    "# update dictionary with key, value pairs\n",
    "for idx, group in enumerate(kmeans_tuned.labels_):\n",
    "    \n",
    "    # create the key,value pair if key is not present in dict \n",
    "    if group not in results.keys():\n",
    "        results[group] = [stocks[idx]]\n",
    "    \n",
    "    # if key is already in dict, append to the list\n",
    "    else:\n",
    "        results[group].append(stocks[idx])\n",
    "\n",
    "# print formatted dictionary\n",
    "from pprint import pprint\n",
    "pprint(results)"
   ]
  },
  {
   "cell_type": "markdown",
   "metadata": {},
   "source": [
    "Labeling each cluster group:\n",
    "    \n",
    "0. **High-Tech - Computer Hardware**. The sole company in this group is Intel, a semiconductor chip manufacturer.\n",
    "\n",
    "\n",
    "1. **Heavy-Industry**. All the companies in this group belong to the heavy-industry sector: DuPont (chemicals), Caterpillar (heavy-equipment) and Alcoa (aluminum).\n",
    "\n",
    "\n",
    "2. **American S&P 100 Companies**. This group includes companies from different sectors, such as: **financial services** (American Express and JPMorgan Chase), **industrial conglomerates** (Boeing, General Electric, United Tech, 3M), **tech** (Microsoft) and **media and entertainment** (Walt Disney). We can also identify that all these corporations are US-based and are part of the Standard & Poor's (S&P's) 100 stock market index.\n",
    "\n",
    "\n",
    "3. **High-Tech - Networking Hardware and Software**. The sole company in this group is Cisco, which develops and sells networking hardware and software.\n",
    "\n",
    "\n",
    "4. **Consumer Goods**. This big cluster is highly associated with companies in the retailing/wholesaling of consumer goods (Kraft, Home Depot, Procter & Gamble, Walmart, McDonald's, Coca-Cola, Johnson & Johnson). Besides that, we also have companies in the tech/telecommunications sectors (Verizon, AT&T, IBM, Merck), and one insurance company (Travelers).\n",
    "\n",
    "\n",
    "5. **Oil Companies**. Out of the three companies in the cluster, two are oil companies (Chevron and Exxon Mobil). The other one is a pharmaceutical industry company (Pfizer).\n",
    "\n",
    "\n",
    "6. **Banking**. Cluster contains only one company: Bank of America.\n",
    "\n",
    "\n",
    "7. **High-Tech - IT, Software and Hardware**. Cluster contains only one company: Hewlett-Packard."
   ]
  }
 ],
 "metadata": {
  "kernelspec": {
   "display_name": "Python [conda env:study] *",
   "language": "python",
   "name": "conda-env-study-py"
  },
  "language_info": {
   "codemirror_mode": {
    "name": "ipython",
    "version": 3
   },
   "file_extension": ".py",
   "mimetype": "text/x-python",
   "name": "python",
   "nbconvert_exporter": "python",
   "pygments_lexer": "ipython3",
   "version": "3.7.9"
  }
 },
 "nbformat": 4,
 "nbformat_minor": 4
}
