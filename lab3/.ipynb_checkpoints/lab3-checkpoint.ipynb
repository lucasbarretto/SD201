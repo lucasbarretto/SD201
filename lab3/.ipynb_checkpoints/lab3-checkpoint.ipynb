{
 "cells": [
  {
   "cell_type": "markdown",
   "metadata": {},
   "source": [
    "# SD201 - Lab 3\n",
    "\n",
    "**Student:** José Lucas Barretto"
   ]
  },
  {
   "cell_type": "markdown",
   "metadata": {},
   "source": [
    "The first step is to import and treat the data set."
   ]
  },
  {
   "cell_type": "code",
   "execution_count": 1,
   "metadata": {},
   "outputs": [
    {
     "data": {
      "text/html": [
       "<div>\n",
       "<style scoped>\n",
       "    .dataframe tbody tr th:only-of-type {\n",
       "        vertical-align: middle;\n",
       "    }\n",
       "\n",
       "    .dataframe tbody tr th {\n",
       "        vertical-align: top;\n",
       "    }\n",
       "\n",
       "    .dataframe thead th {\n",
       "        text-align: right;\n",
       "    }\n",
       "</style>\n",
       "<table border=\"1\" class=\"dataframe\">\n",
       "  <thead>\n",
       "    <tr style=\"text-align: right;\">\n",
       "      <th></th>\n",
       "      <th>Sex</th>\n",
       "      <th>Pclass</th>\n",
       "      <th>Embarked</th>\n",
       "      <th>Survived</th>\n",
       "    </tr>\n",
       "  </thead>\n",
       "  <tbody>\n",
       "    <tr>\n",
       "      <th>0</th>\n",
       "      <td>1</td>\n",
       "      <td>3</td>\n",
       "      <td>2</td>\n",
       "      <td>0</td>\n",
       "    </tr>\n",
       "    <tr>\n",
       "      <th>1</th>\n",
       "      <td>0</td>\n",
       "      <td>1</td>\n",
       "      <td>0</td>\n",
       "      <td>1</td>\n",
       "    </tr>\n",
       "    <tr>\n",
       "      <th>2</th>\n",
       "      <td>0</td>\n",
       "      <td>3</td>\n",
       "      <td>2</td>\n",
       "      <td>1</td>\n",
       "    </tr>\n",
       "    <tr>\n",
       "      <th>3</th>\n",
       "      <td>0</td>\n",
       "      <td>1</td>\n",
       "      <td>2</td>\n",
       "      <td>1</td>\n",
       "    </tr>\n",
       "    <tr>\n",
       "      <th>4</th>\n",
       "      <td>1</td>\n",
       "      <td>3</td>\n",
       "      <td>2</td>\n",
       "      <td>0</td>\n",
       "    </tr>\n",
       "  </tbody>\n",
       "</table>\n",
       "</div>"
      ],
      "text/plain": [
       "   Sex  Pclass  Embarked  Survived\n",
       "0    1       3         2         0\n",
       "1    0       1         0         1\n",
       "2    0       3         2         1\n",
       "3    0       1         2         1\n",
       "4    1       3         2         0"
      ]
     },
     "execution_count": 1,
     "metadata": {},
     "output_type": "execute_result"
    }
   ],
   "source": [
    "import pandas as pd\n",
    "import numpy as np\n",
    "\n",
    "data = pd.read_csv('data.csv', delimiter=',')\n",
    "data.head()"
   ]
  },
  {
   "cell_type": "code",
   "execution_count": 2,
   "metadata": {},
   "outputs": [],
   "source": [
    "records = data[['Sex', 'Pclass', 'Embarked']]\n",
    "attributes = data['Survived']"
   ]
  },
  {
   "cell_type": "code",
   "execution_count": 3,
   "metadata": {},
   "outputs": [],
   "source": [
    "def generate_splits(records):\n",
    "    splits = []\n",
    "    \n",
    "    for column in records.columns:\n",
    "        uniques = list(np.unique(records[column]))\n",
    "        [splits.append((column,unique)) for unique in uniques[1:]]\n",
    "    \n",
    "    return splits"
   ]
  },
  {
   "cell_type": "code",
   "execution_count": 4,
   "metadata": {},
   "outputs": [
    {
     "name": "stdout",
     "output_type": "stream",
     "text": [
      "[('Sex', 1), ('Pclass', 2), ('Pclass', 3), ('Embarked', 1), ('Embarked', 2)]\n"
     ]
    }
   ],
   "source": [
    "splits = generate_splits(records)\n",
    "print(splits)"
   ]
  },
  {
   "cell_type": "code",
   "execution_count": 5,
   "metadata": {},
   "outputs": [],
   "source": [
    "def compute_gini_node(attributes):\n",
    "    counts = attributes.value_counts(normalize = True).to_list()\n",
    "    \n",
    "    gini = 1\n",
    "    for count in counts:\n",
    "            gini -= count**2\n",
    "    return gini"
   ]
  },
  {
   "cell_type": "code",
   "execution_count": 6,
   "metadata": {},
   "outputs": [
    {
     "data": {
      "text/plain": [
       "0.4723650263627057"
      ]
     },
     "execution_count": 6,
     "metadata": {},
     "output_type": "execute_result"
    }
   ],
   "source": [
    "compute_gini_node(attributes)"
   ]
  },
  {
   "cell_type": "code",
   "execution_count": 7,
   "metadata": {},
   "outputs": [],
   "source": [
    "def compute_gini_splits(records, attributes, splits):\n",
    "    \n",
    "    gini_splits = {}\n",
    "    \n",
    "    for split in splits:\n",
    "    \n",
    "        column, condition = split\n",
    "        mask = records[column] < condition\n",
    "\n",
    "        counts_1 = attributes[mask].value_counts(normalize = True).to_list()\n",
    "\n",
    "        gini_1 = 1\n",
    "        for count in counts_1:\n",
    "            gini_1 -= count**2\n",
    "\n",
    "        w_1 = len(attributes[mask])/len(attributes)\n",
    "\n",
    "        counts_2 = attributes[~mask].value_counts(normalize = True).to_list()\n",
    "\n",
    "        gini_2 = 1\n",
    "        for count in counts_2:\n",
    "            gini_2 -= count**2\n",
    "\n",
    "        w_2 = len(attributes[~mask])/len(attributes)\n",
    "\n",
    "        gini_split = w_1*gini_1 + w_2*gini_2\n",
    "\n",
    "        gini_splits[split] = gini_split\n",
    "\n",
    "    gini_splits_ordered = {key:gini_splits[key] for key in sorted(gini_splits, key=gini_splits.get, reverse=True)}\n",
    "    \n",
    "    return gini_splits_ordered"
   ]
  },
  {
   "cell_type": "code",
   "execution_count": 8,
   "metadata": {},
   "outputs": [
    {
     "data": {
      "text/plain": [
       "{('Embarked', 2): 0.4614834969053891,\n",
       " ('Embarked', 1): 0.4587191424234245,\n",
       " ('Pclass', 2): 0.43470260921434667,\n",
       " ('Pclass', 3): 0.42394325999653176,\n",
       " ('Sex', 1): 0.33381364674436353}"
      ]
     },
     "execution_count": 8,
     "metadata": {},
     "output_type": "execute_result"
    }
   ],
   "source": [
    "compute_gini_splits(records, attributes, splits)"
   ]
  },
  {
   "cell_type": "code",
   "execution_count": 9,
   "metadata": {},
   "outputs": [],
   "source": [
    "# checks if the attributes in the node belong to the same class\n",
    "def is_pure(attributes):\n",
    "    \n",
    "    if len(pd.unique(attributes)) == 1:\n",
    "        return True\n",
    "    \n",
    "    else:\n",
    "        return False"
   ]
  },
  {
   "cell_type": "code",
   "execution_count": 10,
   "metadata": {},
   "outputs": [],
   "source": [
    "# this function classifies the leaf node based on the attribute with the highest count\n",
    "def classify_node(attributes):\n",
    "    classes, classes_counts = np.unique(attributes, return_counts=True)\n",
    "    \n",
    "    index = classes_counts.argmax()\n",
    "    prediction = classes[index]\n",
    "    \n",
    "    return prediction"
   ]
  },
  {
   "cell_type": "code",
   "execution_count": 11,
   "metadata": {},
   "outputs": [],
   "source": [
    "def BuildDecisionTree(records, attributes, minNum, level = 0):\n",
    "    \n",
    "    '''\n",
    "    This function builds a tree object using the smallest gini split criteria. If the dataset generates a tree with\n",
    "    only one node, the algorithm returns a tuple containing the node level and gini value as well as the\n",
    "    attribute's value. \n",
    "    \n",
    "    Otherwise, it returns a tree dictionary containing the following tree structure:\n",
    "    \n",
    "    - key: a tuple (level, gini, column, condition), such that column < condition. \n",
    "    E.g.: (0, 0.5, 'Sex', 1) indicates that the node is in level 0, has a 0.5 gini value and constraint 'Sex' < 1.\n",
    "\n",
    "    - value: a dictionary of two other trees, where key 'y' is paired with the tree that respects the condition\n",
    "    column < condition and key 'n' is paired with the tree that respects column <= condition.\n",
    "    '''\n",
    "    \n",
    "    # increase level count\n",
    "    level += 1\n",
    "    \n",
    "    # generates all possible record splits\n",
    "    splits = generate_splits(records)\n",
    "    \n",
    "    # calculates the gini value for that node\n",
    "    gini_node = compute_gini_node(attributes)\n",
    "    \n",
    "    # node is a leaf\n",
    "    if is_pure(attributes) or len(records) < minNum or len(splits) == 0:\n",
    "        \n",
    "        # return leaf value\n",
    "        return (level-1, gini_node, 'Leaf', classify_node(attributes))\n",
    "    \n",
    "    # node is not a leaf\n",
    "    else:\n",
    "        \n",
    "        # create empty tree structure\n",
    "        tree = {}\n",
    "        \n",
    "        # calculate gini split values\n",
    "        gini_splits = compute_gini_splits(records, attributes, splits)\n",
    "        \n",
    "        # get the split with the lowest gini split value\n",
    "        (column, condition), min_gini = gini_splits.popitem()\n",
    "        \n",
    "        # split the data\n",
    "        mask = records[column] < condition\n",
    "        \n",
    "        # calculate the resulting trees recursively\n",
    "        tree_y = BuildDecisionTree(records[mask], attributes[mask], minNum, level)\n",
    "        tree_n = BuildDecisionTree(records[~mask], attributes[~mask], minNum, level)\n",
    "        \n",
    "        # append to the the tree dict\n",
    "        tree[(level-1, gini_node, column, condition)] = {'y' : tree_y, 'n' : tree_n}\n",
    "    \n",
    "    return tree"
   ]
  },
  {
   "cell_type": "code",
   "execution_count": 12,
   "metadata": {
    "scrolled": true
   },
   "outputs": [
    {
     "name": "stdout",
     "output_type": "stream",
     "text": [
      "{(0, 0.5, 'Sex', 1): {'y': {(1, 0.2975206611570247, 'Pclass', 3): {'y': (2, 0.0, 'Leaf', 1), 'n': {(2, 0.4444444444444445, 'Embarked', 2): {'y': (3, 0.0, 'Leaf', 1), 'n': (3, 0.48, 'Leaf', 1)}}}}, 'n': {(1, 0.1975308641975309, 'Pclass', 3): {'y': (2, 0.5, 'Leaf', 0), 'n': (2, 0.0, 'Leaf', 0)}}}}\n"
     ]
    }
   ],
   "source": [
    "tree = BuildDecisionTree(records[0:20], attributes[0:20], 3)\n",
    "print(tree)"
   ]
  },
  {
   "cell_type": "code",
   "execution_count": 13,
   "metadata": {},
   "outputs": [],
   "source": [
    "def getTreeNodes(tree):\n",
    "    nodes = []\n",
    "    \n",
    "    # tree is already leaf, therefore it doesnt contain any divisions\n",
    "    if not isinstance(tree, dict):\n",
    "        level, gini, leaf_string, value = tree\n",
    "        nodes.append(tree)\n",
    "    \n",
    "    # tree contains divisions\n",
    "    else:\n",
    "        for key, value in tree.items():\n",
    "\n",
    "            # key is a condition node\n",
    "            if isinstance(key, tuple):\n",
    "                nodes.append(key)\n",
    "\n",
    "            # value is a leaf node\n",
    "            if isinstance(value, tuple):\n",
    "                nodes.append(value)\n",
    "\n",
    "            # value is another dictionary, recursive call\n",
    "            if isinstance(value, dict):\n",
    "                nodes += getTreeNodes(value)\n",
    "\n",
    "    return nodes"
   ]
  },
  {
   "cell_type": "code",
   "execution_count": 14,
   "metadata": {
    "scrolled": true
   },
   "outputs": [
    {
     "data": {
      "text/plain": [
       "[(0, 0.5, 'Sex', 1),\n",
       " (1, 0.2975206611570247, 'Pclass', 3),\n",
       " (2, 0.0, 'Leaf', 1),\n",
       " (2, 0.4444444444444445, 'Embarked', 2),\n",
       " (3, 0.0, 'Leaf', 1),\n",
       " (3, 0.48, 'Leaf', 1),\n",
       " (1, 0.1975308641975309, 'Pclass', 3),\n",
       " (2, 0.5, 'Leaf', 0),\n",
       " (2, 0.0, 'Leaf', 0)]"
      ]
     },
     "execution_count": 14,
     "metadata": {},
     "output_type": "execute_result"
    }
   ],
   "source": [
    "getTreeNodes(tree)"
   ]
  },
  {
   "cell_type": "code",
   "execution_count": 15,
   "metadata": {},
   "outputs": [],
   "source": [
    "def printDecisionTree(tree, records):\n",
    "    node_list = getTreeNodes(tree)\n",
    "    node_list_sorted = sorted(node_list, key = lambda node_list: node_list[0])\n",
    "    \n",
    "    last_level = -1\n",
    "    \n",
    "    for level, gini, column, condition in node_list_sorted:\n",
    "        \n",
    "        if level == last_level:\n",
    "            print('*****')\n",
    "        else:\n",
    "            if level != 0:\n",
    "                print('')\n",
    "            \n",
    "        if column == 'Leaf':\n",
    "            print('Leaf')\n",
    "            print('Level', level)\n",
    "            print('Class', condition)\n",
    "            \n",
    "        else:\n",
    "            if(level == 0):\n",
    "                print('Root')\n",
    "            else:\n",
    "                print('Intermediate')\n",
    "            print('Level', level)\n",
    "            \n",
    "            features = np.unique(records[column][records[column] < condition])\n",
    "            \n",
    "            print('Feature', column, ' '.join(map(str, features)))\n",
    "            \n",
    "        print('Gini', round(gini,4))\n",
    "        \n",
    "        last_level = level"
   ]
  },
  {
   "cell_type": "code",
   "execution_count": 16,
   "metadata": {},
   "outputs": [
    {
     "name": "stdout",
     "output_type": "stream",
     "text": [
      "Root\n",
      "Level 0\n",
      "Feature Sex 0\n",
      "Gini 0.5\n",
      "\n",
      "Intermediate\n",
      "Level 1\n",
      "Feature Pclass 1 2\n",
      "Gini 0.2975\n",
      "*****\n",
      "Intermediate\n",
      "Level 1\n",
      "Feature Pclass 1 2\n",
      "Gini 0.1975\n",
      "\n",
      "Leaf\n",
      "Level 2\n",
      "Class 1\n",
      "Gini 0.0\n",
      "*****\n",
      "Intermediate\n",
      "Level 2\n",
      "Feature Embarked 0 1\n",
      "Gini 0.4444\n",
      "*****\n",
      "Leaf\n",
      "Level 2\n",
      "Class 0\n",
      "Gini 0.5\n",
      "*****\n",
      "Leaf\n",
      "Level 2\n",
      "Class 0\n",
      "Gini 0.0\n",
      "\n",
      "Leaf\n",
      "Level 3\n",
      "Class 1\n",
      "Gini 0.0\n",
      "*****\n",
      "Leaf\n",
      "Level 3\n",
      "Class 1\n",
      "Gini 0.48\n"
     ]
    }
   ],
   "source": [
    "printDecisionTree(tree, records[0:20])"
   ]
  },
  {
   "cell_type": "code",
   "execution_count": 17,
   "metadata": {},
   "outputs": [],
   "source": [
    "# this function classifies one record according to a given decision tree\n",
    "def classify(record, tree):\n",
    "    \n",
    "    # tree is already leaf, therefore it doesnt contain any divisions\n",
    "    if not isinstance(tree, dict):\n",
    "        level, gini, leaf_string, value = tree\n",
    "        return value\n",
    "    \n",
    "    # tree contains divisions\n",
    "    else:\n",
    "        node = list(tree.keys())[0]\n",
    "\n",
    "        level, gini, column, condition = node\n",
    "        \n",
    "        # chooses the correct tree split for the record\n",
    "        if int(record[column]) < condition:\n",
    "            answer = tree[node]['y']\n",
    "        else:\n",
    "            answer = tree[node]['n']\n",
    "    \n",
    "        # answer is a leaf, return the tree classification value\n",
    "        if not isinstance(answer, dict):\n",
    "            level, gini, leaf_string, value = answer\n",
    "            return value\n",
    "        \n",
    "        # answer is not a leaf, recursively find the correct classification\n",
    "        else:\n",
    "            return classify(record, answer)"
   ]
  },
  {
   "cell_type": "code",
   "execution_count": 18,
   "metadata": {},
   "outputs": [],
   "source": [
    "# this function calculates the complexity of a tree\n",
    "def complexity(tree, alpha):\n",
    "    node_list = getTreeNodes(tree)\n",
    "    \n",
    "    num_leaves = 0\n",
    "    for node in node_list:\n",
    "        if node[2] == 'Leaf':\n",
    "            num_leaves += 1\n",
    "    \n",
    "    complexity = alpha*num_leaves\n",
    "    return complexity"
   ]
  },
  {
   "cell_type": "code",
   "execution_count": 19,
   "metadata": {},
   "outputs": [],
   "source": [
    "# this function calculates the generalization error for a set of records and attributes given a tree\n",
    "def generalizationError(records, attributes, tree, alpha):\n",
    "    \n",
    "    prediction = records.apply(classify, axis=1, args=(tree,))\n",
    "    error = (prediction != attributes).sum()\n",
    "    \n",
    "    generalization_error = (error + complexity(tree, alpha))/len(records)\n",
    "    return generalization_error"
   ]
  },
  {
   "cell_type": "code",
   "execution_count": 20,
   "metadata": {},
   "outputs": [
    {
     "data": {
      "text/plain": [
       "0.21653543307086615"
      ]
     },
     "execution_count": 20,
     "metadata": {},
     "output_type": "execute_result"
    }
   ],
   "source": [
    "generalizationError(records, attributes, tree, 0.5)"
   ]
  },
  {
   "cell_type": "code",
   "execution_count": 42,
   "metadata": {},
   "outputs": [],
   "source": [
    "# this function post prunes a given tree\n",
    "def pruneTree(records, attributes, tree, alpha):\n",
    "    node = list(tree.keys())[0]\n",
    "    \n",
    "    tree_y = tree[node]['y']\n",
    "    tree_n = tree[node]['n']\n",
    "    \n",
    "    # node splits into two leaves\n",
    "    if (not isinstance(tree_y, dict)) and (not isinstance(tree_n, dict)):\n",
    "        \n",
    "        # create new leaf\n",
    "        new_leaf_level = tree_y[0]\n",
    "        new_leaf_gini = compute_gini_node(attributes)\n",
    "        new_leaf_answer = classify_node(attributes)\n",
    "        new_leaf = (new_leaf_level-1, new_leaf_gini, 'Leaf', new_leaf_answer)\n",
    "        \n",
    "        # calculate errors for pruned and unpruned trees\n",
    "        tree_error = generalizationError(records, attributes, tree, alpha)\n",
    "        pruned_tree_error = generalizationError(records, attributes, new_leaf, alpha)\n",
    "        \n",
    "        # returns the version with lowest error\n",
    "        if  pruned_tree_error <= tree_error:\n",
    "            return new_leaf\n",
    "        else:\n",
    "            return tree\n",
    "    \n",
    "    \n",
    "    else:\n",
    "        # obtain node column < condition\n",
    "        column = node[2]\n",
    "        condition = node[3]\n",
    "        \n",
    "        # split records and attributes according to restriction\n",
    "        mask = records[column] < condition\n",
    "        \n",
    "        records_y = records[mask]\n",
    "        attributes_y = attributes[mask]\n",
    "        \n",
    "        records_n = records[~mask]\n",
    "        attributes_n = attributes[~mask]\n",
    "        \n",
    "        # recursively prune trees for both split trees\n",
    "        if isinstance(tree_y, dict):\n",
    "            tree_y = pruneTree(records_y, attributes_y, tree_y, alpha)\n",
    "            \n",
    "        if isinstance(tree_n, dict):\n",
    "            tree_n = pruneTree(records_n, attributes_n, tree_n, alpha)\n",
    "        \n",
    "        # build current tree\n",
    "        tree = {node: {'y' : tree_y, 'n' : tree_n}}\n",
    "        \n",
    "        # return the pruned tree\n",
    "        return tree"
   ]
  },
  {
   "cell_type": "code",
   "execution_count": 46,
   "metadata": {},
   "outputs": [
    {
     "name": "stdout",
     "output_type": "stream",
     "text": [
      "Root\n",
      "Level 0\n",
      "Feature Sex 0\n",
      "Gini 0.5\n",
      "\n",
      "Leaf\n",
      "Level 1\n",
      "Class 1\n",
      "Gini 0.3844\n",
      "*****\n",
      "Leaf\n",
      "Level 1\n",
      "Class 0\n",
      "Gini 0.3064\n"
     ]
    }
   ],
   "source": [
    "tree = BuildDecisionTree(records[0:20], attributes[0:20], 5)\n",
    "prunedTree = pruneTree(records, attributes, tree, 0.5)\n",
    "printDecisionTree(prunedTree, records)"
   ]
  },
  {
   "cell_type": "code",
   "execution_count": null,
   "metadata": {},
   "outputs": [],
   "source": []
  }
 ],
 "metadata": {
  "kernelspec": {
   "display_name": "Python [conda env:study] *",
   "language": "python",
   "name": "conda-env-study-py"
  },
  "language_info": {
   "codemirror_mode": {
    "name": "ipython",
    "version": 3
   },
   "file_extension": ".py",
   "mimetype": "text/x-python",
   "name": "python",
   "nbconvert_exporter": "python",
   "pygments_lexer": "ipython3",
   "version": "3.7.9"
  }
 },
 "nbformat": 4,
 "nbformat_minor": 4
}
