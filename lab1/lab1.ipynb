{
 "cells": [
  {
   "cell_type": "markdown",
   "metadata": {},
   "source": [
    "# SD201 - Lab 1\n",
    "Student: José Lucas Barretto"
   ]
  },
  {
   "cell_type": "markdown",
   "metadata": {},
   "source": [
    "## Section 1: Practicing with Python"
   ]
  },
  {
   "cell_type": "code",
   "execution_count": 1,
   "metadata": {},
   "outputs": [
    {
     "name": "stdout",
     "output_type": "stream",
     "text": [
      "L: [0, 1, 2, 3, 4, 5, 6, 7, 8, 9]\n",
      "M: [0, 1, 4, 9, 16, 25, 36, 49, 64, 81]\n",
      "f(L) = [0, 2, 4, 6, 8]\n",
      "even numbers between 0 and 100: [0, 2, 4, 6, 8, 10, 12, 14, 16, 18, 20, 22, 24, 26, 28, 30, 32, 34, 36, 38, 40, 42, 44, 46, 48, 50, 52, 54, 56, 58, 60, 62, 64, 66, 68, 70, 72, 74, 76, 78, 80, 82, 84, 86, 88, 90, 92, 94, 96, 98]\n"
     ]
    }
   ],
   "source": [
    "# creates a list L of integers from 0 to 9\n",
    "L = [i for i in range(10)]\n",
    "print('L:', L)\n",
    "\n",
    "# creates a list M with the square of the elements in L\n",
    "M = [i**2 for i in L]\n",
    "print('M:', M)\n",
    "\n",
    "# creates a function that returns an array with the even elements of the input array\n",
    "def f(L):\n",
    "    M = []\n",
    "    \n",
    "    for i in L:\n",
    "        if i % 2 == 0:\n",
    "            M.append(i)\n",
    "    \n",
    "    return M\n",
    "\n",
    "print('f(L) =', f(L))\n",
    "\n",
    "# create a file with integers from 0 to 100\n",
    "file = open('file.txt', 'w') # creates empty file\n",
    "\n",
    "integers = [str(i) + '\\n' for i in range(0,100)] # generates a list of integers\n",
    "\n",
    "file.writelines(integers) # writes string to file\n",
    "file.close() # close the file\n",
    "\n",
    "# read file with integers\n",
    "file = open('file.txt', 'r') # opens the file\n",
    "lines = file.readlines() # reads the file lines\n",
    "\n",
    "L = [int(i[:-1]) for i in lines] # generates integer list by removing '\\n' chatacters\n",
    "\n",
    "L_even = f(L) # check for even numbers in L\n",
    "print('even numbers between 0 and 100:', L_even)\n",
    "file.close() # close the file"
   ]
  },
  {
   "cell_type": "markdown",
   "metadata": {},
   "source": [
    "## Section 2: Implementing PageRank"
   ]
  },
  {
   "cell_type": "markdown",
   "metadata": {},
   "source": [
    "### Question 1"
   ]
  },
  {
   "cell_type": "markdown",
   "metadata": {},
   "source": [
    "First, let's define the graph presented in figure 1."
   ]
  },
  {
   "cell_type": "code",
   "execution_count": 2,
   "metadata": {},
   "outputs": [],
   "source": [
    "G1 = {1:[2,5], 2:[3], 3:[4], 4:[1], 5:[6], 6:[1]}"
   ]
  },
  {
   "cell_type": "markdown",
   "metadata": {},
   "source": [
    "Now, we need to build some functions that will help us build the PageRank algorithm."
   ]
  },
  {
   "cell_type": "code",
   "execution_count": 3,
   "metadata": {},
   "outputs": [],
   "source": [
    "# function to generate graph edges\n",
    "def genEdges(G):\n",
    "    E = []\n",
    "    for key in G.keys():\n",
    "        for value in G[key]:\n",
    "            E.append((key, value))\n",
    "    \n",
    "    return E"
   ]
  },
  {
   "cell_type": "code",
   "execution_count": 4,
   "metadata": {},
   "outputs": [],
   "source": [
    "# function to generate the matrix M from the graph\n",
    "def genM(G):\n",
    "    M = []\n",
    "    E = genEdges(G)\n",
    "    \n",
    "    for edge in E:\n",
    "        j = edge[0]\n",
    "        i = edge[1]\n",
    "        \n",
    "        out_degree = len(G[j])\n",
    "        delta = 1/out_degree\n",
    "        \n",
    "        M.append([i, j, delta])\n",
    "    \n",
    "    return M"
   ]
  },
  {
   "cell_type": "markdown",
   "metadata": {},
   "source": [
    "Let's use them to implement the PageRank algorithm!"
   ]
  },
  {
   "cell_type": "code",
   "execution_count": 5,
   "metadata": {},
   "outputs": [],
   "source": [
    "# PageRank algorithm function\n",
    "def pageRank(G, beta, eps, t):\n",
    "    M = genM(G)\n",
    "    \n",
    "    n = len(G.keys())\n",
    "    \n",
    "    pi = [1/n]*n\n",
    "    \n",
    "    print('Starting PageRank.')\n",
    "    for epoch in range(t):\n",
    "        \n",
    "        # a = M*pi\n",
    "        a = [0]*n\n",
    "        \n",
    "        # sparse matrix and vector multiplication\n",
    "        for i in M: \n",
    "            \n",
    "            # slice to obtain matrix row, column and value\n",
    "            row = i[0]\n",
    "            column = i[1]\n",
    "            value = i[2]\n",
    "            \n",
    "            # perform element wise multiplication\n",
    "            a[row-1] += value * pi[column-1]\n",
    "        \n",
    "        # calculate new value of pi\n",
    "        new_pi = [beta*value + (1-beta)/n for value in a]\n",
    "        \n",
    "        # calculate the norm between the new and the old pi\n",
    "        norm = 0\n",
    "        for i in range(n):\n",
    "            norm += abs(new_pi[i] - pi[i])\n",
    "        \n",
    "        pi = new_pi\n",
    "        \n",
    "        # stop condition\n",
    "        if norm < eps:\n",
    "            print('PageRank converged after', epoch, 'epochs.')\n",
    "            break\n",
    "        \n",
    "    rank = dict(zip(G.keys(), pi))\n",
    "    \n",
    "    return rank"
   ]
  },
  {
   "cell_type": "markdown",
   "metadata": {},
   "source": [
    "We can now test the Algorithm for the graph in figure 1."
   ]
  },
  {
   "cell_type": "code",
   "execution_count": 6,
   "metadata": {},
   "outputs": [
    {
     "name": "stdout",
     "output_type": "stream",
     "text": [
      "beta = 1\n",
      "Starting PageRank.\n",
      "PageRank converged after 10 epochs.\n",
      "{1: 0.2708333333333333,\n",
      " 2: 0.13541666666666666,\n",
      " 3: 0.15625,\n",
      " 4: 0.14583333333333331,\n",
      " 5: 0.13541666666666666,\n",
      " 6: 0.15625}\n",
      "Ranking of Pages in decreasing order\n",
      "[1, 3, 6, 4, 2, 5]\n"
     ]
    }
   ],
   "source": [
    "from pprint import pprint\n",
    "\n",
    "print('beta = 1')\n",
    "rank1 = pageRank(G1, 1, 0.1, 100)\n",
    "pprint(rank1)\n",
    "print('Ranking of Pages in decreasing order')\n",
    "print(sorted(rank1, key=rank1.get, reverse=True))"
   ]
  },
  {
   "cell_type": "code",
   "execution_count": 7,
   "metadata": {},
   "outputs": [
    {
     "name": "stdout",
     "output_type": "stream",
     "text": [
      "beta = 0.8\n",
      "Starting PageRank.\n",
      "PageRank converged after 3 epochs.\n",
      "{1: 0.2573333333333333,\n",
      " 2: 0.13626666666666665,\n",
      " 3: 0.15599999999999997,\n",
      " 4: 0.1581333333333333,\n",
      " 5: 0.13626666666666665,\n",
      " 6: 0.15599999999999997}\n",
      "Ranking of Pages in decreasing order\n",
      "[1, 4, 3, 6, 2, 5]\n"
     ]
    }
   ],
   "source": [
    "print('beta = 0.8')\n",
    "rank2 = pageRank(G1, 0.8, 0.1, 100)\n",
    "pprint(rank2)\n",
    "print('Ranking of Pages in decreasing order')\n",
    "print(sorted(rank2, key=rank2.get, reverse=True))"
   ]
  },
  {
   "cell_type": "markdown",
   "metadata": {},
   "source": [
    "We can see that the PageRank results are similar, but are not the same. This occurs because of the difference in the beta value. In the first run, beta equals 1, and, therefore, the random surfer will only surf through links from the currrent page. In the second run, beta equals 0.8, and the surfer now has a small probability of randomly jumping to any page, even if it's not connected to the current node. This causes differences in the final results, since the second run of the algorithm avoids spider traps and therefore provides a more suitable result. The convergence of the random sufer with beta=0.8 is also a lot faster -  it converged after 3 epochs, against 10 for the surfer with beta=1."
   ]
  },
  {
   "cell_type": "markdown",
   "metadata": {},
   "source": [
    "### Question 2"
   ]
  },
  {
   "cell_type": "markdown",
   "metadata": {},
   "source": [
    "The first step now is to search for all the .html webpages in the webpage folder."
   ]
  },
  {
   "cell_type": "code",
   "execution_count": 8,
   "metadata": {},
   "outputs": [],
   "source": [
    "import glob\n",
    "\n",
    "# get all filenames in the webpage folder\n",
    "files = [filename for filename in glob.glob('webpages/*.html')]\n",
    "\n",
    "# organize a dict with all filenames in alphabetical order\n",
    "files.sort()\n",
    "titles = [title[9:] for title in files]\n",
    "code_dict = dict(zip(titles, range(1,len(files)+1))) # assigns a filename for each number\n",
    "reverse_code_dict = dict(zip(range(1,len(files)+1), titles)) # assigns a number for each filename"
   ]
  },
  {
   "cell_type": "markdown",
   "metadata": {},
   "source": [
    "Now that we know all the files that we have to process, we can create the graph dictionary for all the pages."
   ]
  },
  {
   "cell_type": "code",
   "execution_count": 9,
   "metadata": {},
   "outputs": [],
   "source": [
    "import re\n",
    "\n",
    "# creates empty dict\n",
    "G2 = dict()\n",
    "\n",
    "# iterates over all the files\n",
    "for file in files:\n",
    "\n",
    "    # open file\n",
    "    f = open(file, 'r')\n",
    "\n",
    "    # obtains all links found in file through regex manipulation\n",
    "    links_raw = re.findall(r'(href=' + '\\\"' + '[^ ]*' + '\\.html\\\")', f.read())\n",
    "\n",
    "    # removes duplicates by converting to set\n",
    "    links_set = set(links_raw)\n",
    "\n",
    "    # converts set to a list, removes 'href=' and quotation marks from the strings\n",
    "    links = [link[6:-1] for link in links_set]\n",
    "\n",
    "    # sorts lists\n",
    "    links.sort()\n",
    "    \n",
    "    # builds a list with the codes for the respective links\n",
    "    links_code = [code_dict[link] for link in links]\n",
    "    \n",
    "    # gets the filename's code number\n",
    "    filename = file[9:]\n",
    "    file_code = code_dict[filename]\n",
    "    \n",
    "    \n",
    "    # removes selfloops from link list\n",
    "    try:\n",
    "        links_code.remove(file_code)\n",
    "    except ValueError:\n",
    "        pass\n",
    "    \n",
    "    # updates dict with filename (without 'webpages/') and its links\n",
    "    G2.update({file_code : links_code})\n",
    "\n",
    "    # closes file\n",
    "    f.close()"
   ]
  },
  {
   "cell_type": "markdown",
   "metadata": {},
   "source": [
    "Let's use the page rank algorithm with beta=0.8 and analyse the results."
   ]
  },
  {
   "cell_type": "code",
   "execution_count": 10,
   "metadata": {},
   "outputs": [
    {
     "name": "stdout",
     "output_type": "stream",
     "text": [
      "Starting PageRank.\n",
      "PageRank converged after 3 epochs.\n",
      "\n",
      "Ranking of Pages in decreasing order:\n",
      "\n",
      "Programming_language.html :0.0449\n",
      "C_(programming_language).html :0.0380\n",
      "Assembly_language.html :0.0363\n",
      "Operating_system.html :0.0338\n",
      "Java_(programming_language).html :0.0322\n",
      "Compiler.html :0.0305\n",
      "C++.html :0.0287\n",
      "Object-oriented_programming.html :0.0280\n",
      "Lisp_(programming_language).html :0.0267\n",
      "Python_(programming_language).html :0.0258\n",
      "JavaScript.html :0.0238\n",
      "Fortran.html :0.0231\n",
      "Virtual_machine.html :0.0231\n",
      "Computer_science.html :0.0229\n",
      "High-level_programming_language.html :0.0228\n",
      "COBOL.html :0.0222\n",
      "Imperative_programming.html :0.0221\n",
      "Computer.html :0.0218\n",
      "Computer_hardware.html :0.0209\n",
      "Computer_program.html :0.0201\n",
      "Source_code.html :0.0200\n",
      "Type_system.html :0.0196\n",
      "Data_type.html :0.0189\n",
      "Instruction_set.html :0.0186\n",
      "Unix.html :0.0183\n",
      "Scripting_language.html :0.0174\n",
      "Subroutine.html :0.0169\n",
      "GNU_Compiler_Collection.html :0.0165\n",
      "Object_(computer_science).html :0.0161\n",
      "Comparison_of_programming_languages.html :0.0156\n",
      "Low-level_programming_language.html :0.0155\n",
      "Pointer_(computer_programming).html :0.0154\n",
      "List_of_programming_languages.html :0.0150\n",
      "Software.html :0.0147\n",
      "Bytecode.html :0.0147\n",
      "Software_portability.html :0.0141\n",
      "Linux.html :0.0138\n",
      "Dynamic_programming_language.html :0.0138\n",
      "Logic_programming.html :0.0137\n",
      "Executable.html :0.0132\n",
      "Computer_memory.html :0.0131\n",
      "Database.html :0.0122\n",
      "Control_flow.html :0.0111\n",
      "Porting.html :0.0108\n",
      "Boolean_data_type.html :0.0108\n",
      "Integer_(computer_science).html :0.0107\n",
      "Memory_address.html :0.0096\n",
      "Data_(computing).html :0.0091\n",
      "Method_(computer_programming).html :0.0082\n",
      "Kernel_(computing).html :0.0076\n",
      "Strong_and_weak_typing.html :0.0071\n",
      "Binary_file.html :0.0060\n",
      "Lexical_scope.html :0.0051\n",
      "Program_(machine).html :0.0048\n",
      "Snowball_programming_language.html :0.0046\n"
     ]
    }
   ],
   "source": [
    "# run PageRank for the webpage graph\n",
    "rank = pageRank(G2, 0.8, 0.01, 100)\n",
    "\n",
    "# print PageRank results in decreasing order and store results in a dict\n",
    "result = {}\n",
    "\n",
    "print('\\nRanking of Pages in decreasing order:\\n')\n",
    "for number in sorted(rank, key=rank.get, reverse=True):\n",
    "    result[reverse_code_dict[number]] = rank[number]\n",
    "    print(reverse_code_dict[number], ':{:.4f}'.format(rank[number]))"
   ]
  },
  {
   "cell_type": "code",
   "execution_count": 35,
   "metadata": {},
   "outputs": [
    {
     "data": {
      "image/png": "[encoded data removed]",
      "text/plain": [
       "<Figure size 720x1080 with 1 Axes>"
      ]
     },
     "metadata": {
      "needs_background": "light"
     },
     "output_type": "display_data"
    }
   ],
   "source": [
    "# plot page rank results\n",
    "import matplotlib.pyplot as plt\n",
    "\n",
    "fig, ax = plt.subplots(figsize=(10,15))\n",
    "\n",
    "# remove '.html' from label string\n",
    "labels = [key[:-5] for key in result.keys()]\n",
    "\n",
    "# plot results\n",
    "ax.barh(labels, result.values())\n",
    "ax.set_xlabel('PageRank Value', labelpad=15)\n",
    "ax.set_title('PageRank Results', fontsize=14)\n",
    "fig.tight_layout()\n",
    "plt.gca().invert_yaxis()\n",
    "\n",
    "fig.tight_layout()\n",
    "plt.show()"
   ]
  },
  {
   "cell_type": "markdown",
   "metadata": {},
   "source": [
    "### Question 3"
   ]
  },
  {
   "cell_type": "code",
   "execution_count": 12,
   "metadata": {},
   "outputs": [],
   "source": [
    "# this function completely removes a node from a graph\n",
    "def deleteNode(G, node):\n",
    "    \n",
    "    # removes all edges connecting to that node\n",
    "    for key, values in list(G.items()):\n",
    "        if node in values:\n",
    "            values.remove(node)\n",
    "        G[key] = values\n",
    "    \n",
    "    # removes the node\n",
    "    del G[node]\n",
    "\n",
    "# this function removes all dead ends from the graph\n",
    "def removeDeadEnds(G):\n",
    "    change = True\n",
    "    \n",
    "    while change:\n",
    "        change = False\n",
    "        \n",
    "        # find dead ends\n",
    "        for key, values in list(G.items()):\n",
    "        \n",
    "            if len(values) == 0:\n",
    "                deleteNode(G, key)\n",
    "                change = True"
   ]
  },
  {
   "cell_type": "markdown",
   "metadata": {},
   "source": [
    "Now, let's test the function on the following graph (red nodes are dead-ends):\n",
    "\n",
    "![A Graph with Dead-Ends.](graph_dead_ends.png)"
   ]
  },
  {
   "cell_type": "code",
   "execution_count": 36,
   "metadata": {},
   "outputs": [
    {
     "name": "stdout",
     "output_type": "stream",
     "text": [
      "{1: [2, 5], 2: [3], 3: [4], 4: [1], 5: [6], 6: [1]}\n"
     ]
    }
   ],
   "source": [
    "G3 = {1:[2,5], 2:[3], 3:[4], 4:[1,8], 5:[6,7], 6:[1,7], 7:[], 8:[9], 9:[10,11], 10:[], 11:[]}\n",
    "removeDeadEnds(G3)\n",
    "print(G3)"
   ]
  }
 ],
 "metadata": {
  "kernelspec": {
   "display_name": "Python [conda env:study] *",
   "language": "python",
   "name": "conda-env-study-py"
  },
  "language_info": {
   "codemirror_mode": {
    "name": "ipython",
    "version": 3
   },
   "file_extension": ".py",
   "mimetype": "text/x-python",
   "name": "python",
   "nbconvert_exporter": "python",
   "pygments_lexer": "ipython3",
   "version": "3.7.9"
  }
 },
 "nbformat": 4,
 "nbformat_minor": 4
}
